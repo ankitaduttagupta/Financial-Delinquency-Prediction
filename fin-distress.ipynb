{
 "cells": [
  {
   "cell_type": "code",
   "execution_count": 3,
   "metadata": {},
   "outputs": [],
   "source": [
    "import pandas as pd\n",
    "import numpy as np\n",
    "import os\n",
    "import matplotlib.pyplot as plt\n",
    "import seaborn as sns\n",
    "from sklearn.model_selection import train_test_split\n",
    "from sklearn.impute import SimpleImputer\n",
    "\n",
    "import warnings\n",
    "warnings.filterwarnings('ignore')\n",
    "\n"
   ]
  },
  {
   "cell_type": "code",
   "execution_count": 4,
   "metadata": {},
   "outputs": [],
   "source": [
    "sns.set(style=\"darkgrid\")\n",
    "sns.set(font_scale=1.3)\n",
    "from sklearn.metrics import roc_auc_score ,mean_squared_error,accuracy_score,classification_report,confusion_matrix,roc_curve\n",
    "from sklearn.metrics import confusion_matrix\n",
    "from sklearn.metrics import f1_score\n",
    "from sklearn.metrics import recall_score\n",
    "from sklearn.metrics import precision_score\n",
    "from sklearn.svm import SVC  \n",
    "from sklearn.base import BaseEstimator, TransformerMixin\n",
    "\n",
    "from sklearn.model_selection import GridSearchCV\n",
    "from sklearn.model_selection import train_test_split\n",
    "from sklearn.pipeline import Pipeline, FeatureUnion\n",
    "from sklearn.metrics import classification_report\n",
    "from sklearn.naive_bayes import MultinomialNB\n",
    "from sklearn.linear_model import LogisticRegression\n",
    "from sklearn.tree import DecisionTreeClassifier\n",
    "from sklearn.ensemble import RandomForestClassifier\n",
    "from sklearn.feature_selection import RFE"
   ]
  },
  {
   "cell_type": "code",
   "execution_count": null,
   "metadata": {},
   "outputs": [],
   "source": []
  },
  {
   "cell_type": "markdown",
   "metadata": {},
   "source": [
    "### data description\n",
    "1. **SeriousDlqin2yrs**- Person experienced 90 days past due delinquency or worse Y/N\n",
    "2. **RevolvingUtilizationOfUnsecuredLines**- Total balance on credit cards and personal lines of credit except real estate and no installment debt like car loans divided by the sum of credit limits percentage : debt/limit ratio\n",
    "3. **age** - Age of borrower in years integer\n",
    "4. **NumberOfTime30-59DaysPastDueNotWorse** - Number of times borrower has been 30-59 days past due but no worse in the last 2 years. integer\n",
    "5. **DebtRatio** -Monthly debt payments, alimony,living costs divided by monthy gross income percentage\n",
    "6. **MonthlyIncome**- Monthly income real\n",
    "7. **NumberOfOpenCreditLinesAndLoans**- Number of Open loans (installment like car loan or mortgage) and Lines of credit (e.g. credit cards) integer\n",
    "8. **NumberOfTimes90DaysLate**- Number of times borrower has been 90 days or more past due. integer\n",
    "9. **NumberRealEstateLoansOrLines**- Number of mortgage and real estate loans including home equity lines of credit integer\n",
    "10. **NumberOfTime60-89DaysPastDueNotWorse**- Number of times borrower has been 60-89 days past due but no worse in the last 2 years. integer\n",
    "11. **NumberOfDependents** - Number of dependents in family excluding themselves (spouse, children etc.) integer\n"
   ]
  },
  {
   "cell_type": "code",
   "execution_count": 5,
   "metadata": {},
   "outputs": [
    {
     "data": {
      "text/html": [
       "<div>\n",
       "<style scoped>\n",
       "    .dataframe tbody tr th:only-of-type {\n",
       "        vertical-align: middle;\n",
       "    }\n",
       "\n",
       "    .dataframe tbody tr th {\n",
       "        vertical-align: top;\n",
       "    }\n",
       "\n",
       "    .dataframe thead th {\n",
       "        text-align: right;\n",
       "    }\n",
       "</style>\n",
       "<table border=\"1\" class=\"dataframe\">\n",
       "  <thead>\n",
       "    <tr style=\"text-align: right;\">\n",
       "      <th></th>\n",
       "      <th>Unnamed: 0</th>\n",
       "      <th>SeriousDlqin2yrs</th>\n",
       "      <th>RevolvingUtilizationOfUnsecuredLines</th>\n",
       "      <th>age</th>\n",
       "      <th>NumberOfTime30-59DaysPastDueNotWorse</th>\n",
       "      <th>DebtRatio</th>\n",
       "      <th>MonthlyIncome</th>\n",
       "      <th>NumberOfOpenCreditLinesAndLoans</th>\n",
       "      <th>NumberOfTimes90DaysLate</th>\n",
       "      <th>NumberRealEstateLoansOrLines</th>\n",
       "      <th>NumberOfTime60-89DaysPastDueNotWorse</th>\n",
       "      <th>NumberOfDependents</th>\n",
       "    </tr>\n",
       "  </thead>\n",
       "  <tbody>\n",
       "    <tr>\n",
       "      <th>0</th>\n",
       "      <td>1</td>\n",
       "      <td>1</td>\n",
       "      <td>0.766127</td>\n",
       "      <td>45</td>\n",
       "      <td>2</td>\n",
       "      <td>0.802982</td>\n",
       "      <td>9120.0</td>\n",
       "      <td>13</td>\n",
       "      <td>0</td>\n",
       "      <td>6</td>\n",
       "      <td>0</td>\n",
       "      <td>2.0</td>\n",
       "    </tr>\n",
       "    <tr>\n",
       "      <th>1</th>\n",
       "      <td>2</td>\n",
       "      <td>0</td>\n",
       "      <td>0.957151</td>\n",
       "      <td>40</td>\n",
       "      <td>0</td>\n",
       "      <td>0.121876</td>\n",
       "      <td>2600.0</td>\n",
       "      <td>4</td>\n",
       "      <td>0</td>\n",
       "      <td>0</td>\n",
       "      <td>0</td>\n",
       "      <td>1.0</td>\n",
       "    </tr>\n",
       "    <tr>\n",
       "      <th>2</th>\n",
       "      <td>3</td>\n",
       "      <td>0</td>\n",
       "      <td>0.658180</td>\n",
       "      <td>38</td>\n",
       "      <td>1</td>\n",
       "      <td>0.085113</td>\n",
       "      <td>3042.0</td>\n",
       "      <td>2</td>\n",
       "      <td>1</td>\n",
       "      <td>0</td>\n",
       "      <td>0</td>\n",
       "      <td>0.0</td>\n",
       "    </tr>\n",
       "    <tr>\n",
       "      <th>3</th>\n",
       "      <td>4</td>\n",
       "      <td>0</td>\n",
       "      <td>0.233810</td>\n",
       "      <td>30</td>\n",
       "      <td>0</td>\n",
       "      <td>0.036050</td>\n",
       "      <td>3300.0</td>\n",
       "      <td>5</td>\n",
       "      <td>0</td>\n",
       "      <td>0</td>\n",
       "      <td>0</td>\n",
       "      <td>0.0</td>\n",
       "    </tr>\n",
       "    <tr>\n",
       "      <th>4</th>\n",
       "      <td>5</td>\n",
       "      <td>0</td>\n",
       "      <td>0.907239</td>\n",
       "      <td>49</td>\n",
       "      <td>1</td>\n",
       "      <td>0.024926</td>\n",
       "      <td>63588.0</td>\n",
       "      <td>7</td>\n",
       "      <td>0</td>\n",
       "      <td>1</td>\n",
       "      <td>0</td>\n",
       "      <td>0.0</td>\n",
       "    </tr>\n",
       "  </tbody>\n",
       "</table>\n",
       "</div>"
      ],
      "text/plain": [
       "   Unnamed: 0  SeriousDlqin2yrs  RevolvingUtilizationOfUnsecuredLines  age  \\\n",
       "0           1                 1                              0.766127   45   \n",
       "1           2                 0                              0.957151   40   \n",
       "2           3                 0                              0.658180   38   \n",
       "3           4                 0                              0.233810   30   \n",
       "4           5                 0                              0.907239   49   \n",
       "\n",
       "   NumberOfTime30-59DaysPastDueNotWorse  DebtRatio  MonthlyIncome  \\\n",
       "0                                     2   0.802982         9120.0   \n",
       "1                                     0   0.121876         2600.0   \n",
       "2                                     1   0.085113         3042.0   \n",
       "3                                     0   0.036050         3300.0   \n",
       "4                                     1   0.024926        63588.0   \n",
       "\n",
       "   NumberOfOpenCreditLinesAndLoans  NumberOfTimes90DaysLate  \\\n",
       "0                               13                        0   \n",
       "1                                4                        0   \n",
       "2                                2                        1   \n",
       "3                                5                        0   \n",
       "4                                7                        0   \n",
       "\n",
       "   NumberRealEstateLoansOrLines  NumberOfTime60-89DaysPastDueNotWorse  \\\n",
       "0                             6                                     0   \n",
       "1                             0                                     0   \n",
       "2                             0                                     0   \n",
       "3                             0                                     0   \n",
       "4                             1                                     0   \n",
       "\n",
       "   NumberOfDependents  \n",
       "0                 2.0  \n",
       "1                 1.0  \n",
       "2                 0.0  \n",
       "3                 0.0  \n",
       "4                 0.0  "
      ]
     },
     "execution_count": 5,
     "metadata": {},
     "output_type": "execute_result"
    }
   ],
   "source": [
    "# Load the data\n",
    "train = pd.read_csv('C:/Users/RUPA/Downloads/fin_distress.csv')\n",
    "\n",
    "# First 5 columns\n",
    "train.head()\n",
    "# print(df.shape) =(150000,12)\n",
    "#=================================\n"
   ]
  },
  {
   "cell_type": "markdown",
   "metadata": {},
   "source": [
    "##### NumberOfDependents=3924 rows : 2.6 % null , expected data type: float\n",
    "##### MonthlyIncome=29731 rows   : 19.82 % null, expected datatype: float"
   ]
  },
  {
   "cell_type": "markdown",
   "metadata": {},
   "source": [
    "## EDA of the data given:\n",
    "\n",
    "### SeriousDlqin2yrs= history of serious delinquency in past 2 years \n",
    "1 : represents defaulted\n",
    "\n",
    "0 : represents not defaulted\n"
   ]
  },
  {
   "cell_type": "code",
   "execution_count": 6,
   "metadata": {},
   "outputs": [
    {
     "data": {
      "image/png": "[encoded data removed]",
      "text/plain": [
       "<Figure size 432x288 with 1 Axes>"
      ]
     },
     "metadata": {},
     "output_type": "display_data"
    }
   ],
   "source": [
    "train['SeriousDlqin2yrs'].value_counts()\n",
    "value = [139974,10026]\n",
    "colors_list = ['gold', 'pink']\n",
    "my_labels = 'Not Defaulted','Defaulted'\n",
    "plt.pie(value,labels=my_labels,autopct='%1.1f%%',shadow=True,colors=colors_list)\n",
    "plt.title('Distribution of population based on Serious Credit Delinquency in past 2 years', y=1.12) \n",
    "plt.axis('equal') \n",
    "plt.legend(labels=my_labels, loc='upper left') \n",
    "plt.axis('equal')\n",
    "plt.show()"
   ]
  },
  {
   "cell_type": "code",
   "execution_count": 7,
   "metadata": {},
   "outputs": [
    {
     "data": {
      "text/plain": [
       "count    150000.000000\n",
       "mean          6.048438\n",
       "std         249.755371\n",
       "min           0.000000\n",
       "25%           0.029867\n",
       "50%           0.154181\n",
       "75%           0.559046\n",
       "max       50708.000000\n",
       "Name: RevolvingUtilizationOfUnsecuredLines, dtype: float64"
      ]
     },
     "execution_count": 7,
     "metadata": {},
     "output_type": "execute_result"
    }
   ],
   "source": [
    "train[\"RevolvingUtilizationOfUnsecuredLines\"].describe()"
   ]
  },
  {
   "cell_type": "code",
   "execution_count": 8,
   "metadata": {},
   "outputs": [
    {
     "data": {
      "text/plain": [
       "<matplotlib.axes._subplots.AxesSubplot at 0x24b9b9b3ac8>"
      ]
     },
     "execution_count": 8,
     "metadata": {},
     "output_type": "execute_result"
    },
    {
     "data": {
      "image/png": "[encoded data removed]",
      "text/plain": [
       "<Figure size 432x288 with 1 Axes>"
      ]
     },
     "metadata": {},
     "output_type": "display_data"
    }
   ],
   "source": [
    "train[\"RevolvingUtilizationOfUnsecuredLines\"].describe()\n",
    "train['RevolvingUtilizationOfUnsecuredLines'].plot.hist(bins=10, alpha=1)"
   ]
  },
  {
   "cell_type": "code",
   "execution_count": 9,
   "metadata": {},
   "outputs": [
    {
     "data": {
      "text/plain": [
       "'0.05991996127598361'"
      ]
     },
     "execution_count": 9,
     "metadata": {},
     "output_type": "execute_result"
    }
   ],
   "source": [
    "# print(\"Proportion of Defaulters with Total Amount of Money Owed Not Exceeding Total Credit Limit: {}\"\n",
    "      \n",
    "x=format(train.loc[(train[\"RevolvingUtilizationOfUnsecuredLines\"] >= 0) & (train[\"RevolvingUtilizationOfUnsecuredLines\"] <=1)][\"SeriousDlqin2yrs\"].mean())\n",
    "\n",
    "x"
   ]
  },
  {
   "cell_type": "code",
   "execution_count": null,
   "metadata": {},
   "outputs": [],
   "source": []
  },
  {
   "cell_type": "markdown",
   "metadata": {},
   "source": [
    "## age  : \n",
    "There seems to be more younger people defaulting and the distribution seems fine on the whole"
   ]
  },
  {
   "cell_type": "code",
   "execution_count": 10,
   "metadata": {},
   "outputs": [
    {
     "data": {
      "text/plain": [
       "count    150000.000000\n",
       "mean         52.295207\n",
       "std          14.771866\n",
       "min           0.000000\n",
       "25%          41.000000\n",
       "50%          52.000000\n",
       "75%          63.000000\n",
       "max         109.000000\n",
       "Name: age, dtype: float64"
      ]
     },
     "execution_count": 10,
     "metadata": {},
     "output_type": "execute_result"
    }
   ],
   "source": [
    "train[\"age\"].describe()"
   ]
  },
  {
   "cell_type": "code",
   "execution_count": 11,
   "metadata": {},
   "outputs": [],
   "source": [
    "train[train['age'] == 0]\n",
    "# There is just one individual with a 0 value. We can probably attribute it to an input \n",
    "#error and impute with the median value.\n",
    "train['age'].median()\n",
    "train['age'].replace(0, train['age'].median(), inplace=True)\n",
    "#We see that our youngest individual is 21 which makes more sense.\n"
   ]
  },
  {
   "cell_type": "code",
   "execution_count": 12,
   "metadata": {},
   "outputs": [
    {
     "data": {
      "text/plain": [
       "<matplotlib.axes._subplots.AxesSubplot at 0x24b9baaa198>"
      ]
     },
     "execution_count": 12,
     "metadata": {},
     "output_type": "execute_result"
    },
    {
     "data": {
      "image/png": "[encoded data removed]",
      "text/plain": [
       "<Figure size 432x288 with 1 Axes>"
      ]
     },
     "metadata": {},
     "output_type": "display_data"
    }
   ],
   "source": [
    "sns.distplot(train[\"age\"])"
   ]
  },
  {
   "cell_type": "code",
   "execution_count": 13,
   "metadata": {},
   "outputs": [
    {
     "data": {
      "text/plain": [
       "<matplotlib.axes._subplots.AxesSubplot at 0x24b9bcf8128>"
      ]
     },
     "execution_count": 13,
     "metadata": {},
     "output_type": "execute_result"
    },
    {
     "data": {
      "image/png": "[encoded data removed]",
      "text/plain": [
       "<Figure size 432x288 with 1 Axes>"
      ]
     },
     "metadata": {},
     "output_type": "display_data"
    }
   ],
   "source": [
    "sns.distplot(train.loc[train[\"SeriousDlqin2yrs\"] == 0][\"age\"])"
   ]
  },
  {
   "cell_type": "code",
   "execution_count": 14,
   "metadata": {},
   "outputs": [
    {
     "data": {
      "text/plain": [
       "<matplotlib.axes._subplots.AxesSubplot at 0x24b9bf4ac18>"
      ]
     },
     "execution_count": 14,
     "metadata": {},
     "output_type": "execute_result"
    },
    {
     "data": {
      "image/png": "[encoded data removed]",
      "text/plain": [
       "<Figure size 432x288 with 1 Axes>"
      ]
     },
     "metadata": {},
     "output_type": "display_data"
    }
   ],
   "source": [
    "sns.distplot(train.loc[train[\"SeriousDlqin2yrs\"] == 1][\"age\"])"
   ]
  },
  {
   "cell_type": "markdown",
   "metadata": {},
   "source": [
    "## late payments columns\n",
    "1. NumberOfTimes90DaysLate\n",
    "2. NumberOfTime60-89DaysPastDueNotWorse\n",
    "3. NumberOfTime30-59DaysPastDueNotWorse"
   ]
  },
  {
   "cell_type": "code",
   "execution_count": 15,
   "metadata": {},
   "outputs": [
    {
     "data": {
      "text/plain": [
       "0     141662\n",
       "1       5243\n",
       "2       1555\n",
       "3        667\n",
       "4        291\n",
       "5        131\n",
       "6         80\n",
       "7         38\n",
       "8         21\n",
       "9         19\n",
       "10         8\n",
       "11         5\n",
       "12         2\n",
       "13         4\n",
       "14         2\n",
       "15         2\n",
       "17         1\n",
       "96         5\n",
       "98       264\n",
       "Name: NumberOfTimes90DaysLate, dtype: int64"
      ]
     },
     "execution_count": 15,
     "metadata": {},
     "output_type": "execute_result"
    }
   ],
   "source": [
    "late_pay_cols = [\"NumberOfTimes90DaysLate\", \"NumberOfTime60-89DaysPastDueNotWorse\",\n",
    "                \"NumberOfTime30-59DaysPastDueNotWorse\"]\n",
    "train[\"NumberOfTimes90DaysLate\"].value_counts().sort_index()"
   ]
  },
  {
   "cell_type": "code",
   "execution_count": 16,
   "metadata": {},
   "outputs": [
    {
     "data": {
      "text/plain": [
       "0     142396\n",
       "1       5731\n",
       "2       1118\n",
       "3        318\n",
       "4        105\n",
       "5         34\n",
       "6         16\n",
       "7          9\n",
       "8          2\n",
       "9          1\n",
       "11         1\n",
       "96         5\n",
       "98       264\n",
       "Name: NumberOfTime60-89DaysPastDueNotWorse, dtype: int64"
      ]
     },
     "execution_count": 16,
     "metadata": {},
     "output_type": "execute_result"
    }
   ],
   "source": [
    "train[\"NumberOfTime60-89DaysPastDueNotWorse\"].value_counts().sort_index()\n",
    " # no one who is 60-89 days past due between 11 and 96 times."
   ]
  },
  {
   "cell_type": "code",
   "execution_count": 17,
   "metadata": {},
   "outputs": [
    {
     "data": {
      "text/plain": [
       "0     126018\n",
       "1      16033\n",
       "2       4598\n",
       "3       1754\n",
       "4        747\n",
       "5        342\n",
       "98       264\n",
       "6        140\n",
       "7         54\n",
       "8         25\n",
       "9         12\n",
       "96         5\n",
       "10         4\n",
       "12         2\n",
       "13         1\n",
       "11         1\n",
       "Name: NumberOfTime30-59DaysPastDueNotWorse, dtype: int64"
      ]
     },
     "execution_count": 17,
     "metadata": {},
     "output_type": "execute_result"
    }
   ],
   "source": [
    "train[\"NumberOfTime30-59DaysPastDueNotWorse\"].value_counts()"
   ]
  },
  {
   "cell_type": "markdown",
   "metadata": {},
   "source": [
    "**Looking at the values for the number of times each individual were 30-59 days past due on their payments, I noticed that there were 2 extreme values. The values of 96 and 98 were a big jump from the next highest value of 13. It would seem that these 2 values represent a qualitative aspect of the variable and were mixed in together with the other quantitative values.**"
   ]
  },
  {
   "cell_type": "code",
   "execution_count": 18,
   "metadata": {},
   "outputs": [
    {
     "data": {
      "text/html": [
       "<div>\n",
       "<style scoped>\n",
       "    .dataframe tbody tr th:only-of-type {\n",
       "        vertical-align: middle;\n",
       "    }\n",
       "\n",
       "    .dataframe tbody tr th {\n",
       "        vertical-align: top;\n",
       "    }\n",
       "\n",
       "    .dataframe thead th {\n",
       "        text-align: right;\n",
       "    }\n",
       "</style>\n",
       "<table border=\"1\" class=\"dataframe\">\n",
       "  <thead>\n",
       "    <tr style=\"text-align: right;\">\n",
       "      <th></th>\n",
       "      <th>Unnamed: 0</th>\n",
       "      <th>SeriousDlqin2yrs</th>\n",
       "      <th>RevolvingUtilizationOfUnsecuredLines</th>\n",
       "      <th>age</th>\n",
       "      <th>NumberOfTime30-59DaysPastDueNotWorse</th>\n",
       "      <th>DebtRatio</th>\n",
       "      <th>MonthlyIncome</th>\n",
       "      <th>NumberOfOpenCreditLinesAndLoans</th>\n",
       "      <th>NumberOfTimes90DaysLate</th>\n",
       "      <th>NumberRealEstateLoansOrLines</th>\n",
       "      <th>NumberOfTime60-89DaysPastDueNotWorse</th>\n",
       "      <th>NumberOfDependents</th>\n",
       "    </tr>\n",
       "  </thead>\n",
       "  <tbody>\n",
       "    <tr>\n",
       "      <th>41944</th>\n",
       "      <td>41945</td>\n",
       "      <td>1</td>\n",
       "      <td>1.0</td>\n",
       "      <td>26</td>\n",
       "      <td>96</td>\n",
       "      <td>0.000000</td>\n",
       "      <td>NaN</td>\n",
       "      <td>0</td>\n",
       "      <td>96</td>\n",
       "      <td>0</td>\n",
       "      <td>96</td>\n",
       "      <td>0.0</td>\n",
       "    </tr>\n",
       "    <tr>\n",
       "      <th>69478</th>\n",
       "      <td>69479</td>\n",
       "      <td>1</td>\n",
       "      <td>1.0</td>\n",
       "      <td>33</td>\n",
       "      <td>96</td>\n",
       "      <td>0.008047</td>\n",
       "      <td>4100.0</td>\n",
       "      <td>0</td>\n",
       "      <td>96</td>\n",
       "      <td>0</td>\n",
       "      <td>96</td>\n",
       "      <td>0.0</td>\n",
       "    </tr>\n",
       "    <tr>\n",
       "      <th>84167</th>\n",
       "      <td>84168</td>\n",
       "      <td>1</td>\n",
       "      <td>1.0</td>\n",
       "      <td>29</td>\n",
       "      <td>96</td>\n",
       "      <td>0.000000</td>\n",
       "      <td>2800.0</td>\n",
       "      <td>0</td>\n",
       "      <td>96</td>\n",
       "      <td>0</td>\n",
       "      <td>96</td>\n",
       "      <td>2.0</td>\n",
       "    </tr>\n",
       "    <tr>\n",
       "      <th>94106</th>\n",
       "      <td>94107</td>\n",
       "      <td>1</td>\n",
       "      <td>1.0</td>\n",
       "      <td>34</td>\n",
       "      <td>96</td>\n",
       "      <td>0.000000</td>\n",
       "      <td>3500.0</td>\n",
       "      <td>0</td>\n",
       "      <td>96</td>\n",
       "      <td>0</td>\n",
       "      <td>96</td>\n",
       "      <td>1.0</td>\n",
       "    </tr>\n",
       "    <tr>\n",
       "      <th>120049</th>\n",
       "      <td>120050</td>\n",
       "      <td>0</td>\n",
       "      <td>1.0</td>\n",
       "      <td>46</td>\n",
       "      <td>96</td>\n",
       "      <td>0.051765</td>\n",
       "      <td>4616.0</td>\n",
       "      <td>0</td>\n",
       "      <td>96</td>\n",
       "      <td>0</td>\n",
       "      <td>96</td>\n",
       "      <td>0.0</td>\n",
       "    </tr>\n",
       "  </tbody>\n",
       "</table>\n",
       "</div>"
      ],
      "text/plain": [
       "        Unnamed: 0  SeriousDlqin2yrs  RevolvingUtilizationOfUnsecuredLines  \\\n",
       "41944        41945                 1                                   1.0   \n",
       "69478        69479                 1                                   1.0   \n",
       "84167        84168                 1                                   1.0   \n",
       "94106        94107                 1                                   1.0   \n",
       "120049      120050                 0                                   1.0   \n",
       "\n",
       "        age  NumberOfTime30-59DaysPastDueNotWorse  DebtRatio  MonthlyIncome  \\\n",
       "41944    26                                    96   0.000000            NaN   \n",
       "69478    33                                    96   0.008047         4100.0   \n",
       "84167    29                                    96   0.000000         2800.0   \n",
       "94106    34                                    96   0.000000         3500.0   \n",
       "120049   46                                    96   0.051765         4616.0   \n",
       "\n",
       "        NumberOfOpenCreditLinesAndLoans  NumberOfTimes90DaysLate  \\\n",
       "41944                                 0                       96   \n",
       "69478                                 0                       96   \n",
       "84167                                 0                       96   \n",
       "94106                                 0                       96   \n",
       "120049                                0                       96   \n",
       "\n",
       "        NumberRealEstateLoansOrLines  NumberOfTime60-89DaysPastDueNotWorse  \\\n",
       "41944                              0                                    96   \n",
       "69478                              0                                    96   \n",
       "84167                              0                                    96   \n",
       "94106                              0                                    96   \n",
       "120049                             0                                    96   \n",
       "\n",
       "        NumberOfDependents  \n",
       "41944                  0.0  \n",
       "69478                  0.0  \n",
       "84167                  2.0  \n",
       "94106                  1.0  \n",
       "120049                 0.0  "
      ]
     },
     "execution_count": 18,
     "metadata": {},
     "output_type": "execute_result"
    }
   ],
   "source": [
    "train[train['NumberOfTime30-59DaysPastDueNotWorse'] == 96]"
   ]
  },
  {
   "cell_type": "markdown",
   "metadata": {},
   "source": [
    "**By looking only at the observations with values 96 and 98 in the 30-59 days variable, we notice a pattern start to emerge. The same value is found in the >=90days and 60-89days variables as well, all of these observations have a revolvingcreditrate of 1.0 and the debtratio is majority 0**"
   ]
  },
  {
   "cell_type": "code",
   "execution_count": 19,
   "metadata": {},
   "outputs": [
    {
     "data": {
      "text/html": [
       "<div>\n",
       "<style scoped>\n",
       "    .dataframe tbody tr th:only-of-type {\n",
       "        vertical-align: middle;\n",
       "    }\n",
       "\n",
       "    .dataframe tbody tr th {\n",
       "        vertical-align: top;\n",
       "    }\n",
       "\n",
       "    .dataframe thead th {\n",
       "        text-align: right;\n",
       "    }\n",
       "</style>\n",
       "<table border=\"1\" class=\"dataframe\">\n",
       "  <thead>\n",
       "    <tr style=\"text-align: right;\">\n",
       "      <th></th>\n",
       "      <th>NumberOfTimes90DaysLate</th>\n",
       "      <th>NumberOfTime60-89DaysPastDueNotWorse</th>\n",
       "      <th>NumberOfTime30-59DaysPastDueNotWorse</th>\n",
       "    </tr>\n",
       "  </thead>\n",
       "  <tbody>\n",
       "    <tr>\n",
       "      <th>count</th>\n",
       "      <td>264.0</td>\n",
       "      <td>264.0</td>\n",
       "      <td>264.0</td>\n",
       "    </tr>\n",
       "    <tr>\n",
       "      <th>mean</th>\n",
       "      <td>98.0</td>\n",
       "      <td>98.0</td>\n",
       "      <td>98.0</td>\n",
       "    </tr>\n",
       "    <tr>\n",
       "      <th>std</th>\n",
       "      <td>0.0</td>\n",
       "      <td>0.0</td>\n",
       "      <td>0.0</td>\n",
       "    </tr>\n",
       "    <tr>\n",
       "      <th>min</th>\n",
       "      <td>98.0</td>\n",
       "      <td>98.0</td>\n",
       "      <td>98.0</td>\n",
       "    </tr>\n",
       "    <tr>\n",
       "      <th>25%</th>\n",
       "      <td>98.0</td>\n",
       "      <td>98.0</td>\n",
       "      <td>98.0</td>\n",
       "    </tr>\n",
       "    <tr>\n",
       "      <th>50%</th>\n",
       "      <td>98.0</td>\n",
       "      <td>98.0</td>\n",
       "      <td>98.0</td>\n",
       "    </tr>\n",
       "    <tr>\n",
       "      <th>75%</th>\n",
       "      <td>98.0</td>\n",
       "      <td>98.0</td>\n",
       "      <td>98.0</td>\n",
       "    </tr>\n",
       "    <tr>\n",
       "      <th>max</th>\n",
       "      <td>98.0</td>\n",
       "      <td>98.0</td>\n",
       "      <td>98.0</td>\n",
       "    </tr>\n",
       "  </tbody>\n",
       "</table>\n",
       "</div>"
      ],
      "text/plain": [
       "       NumberOfTimes90DaysLate  NumberOfTime60-89DaysPastDueNotWorse  \\\n",
       "count                    264.0                                 264.0   \n",
       "mean                      98.0                                  98.0   \n",
       "std                        0.0                                   0.0   \n",
       "min                       98.0                                  98.0   \n",
       "25%                       98.0                                  98.0   \n",
       "50%                       98.0                                  98.0   \n",
       "75%                       98.0                                  98.0   \n",
       "max                       98.0                                  98.0   \n",
       "\n",
       "       NumberOfTime30-59DaysPastDueNotWorse  \n",
       "count                                 264.0  \n",
       "mean                                   98.0  \n",
       "std                                     0.0  \n",
       "min                                    98.0  \n",
       "25%                                    98.0  \n",
       "50%                                    98.0  \n",
       "75%                                    98.0  \n",
       "max                                    98.0  "
      ]
     },
     "execution_count": 19,
     "metadata": {},
     "output_type": "execute_result"
    }
   ],
   "source": [
    "train[train[\"NumberOfTimes90DaysLate\"] > 96][late_pay_cols].describe()\n",
    "\n",
    "#It is interesting to note that there are no one who is 90 \n",
    "#or more days past due between 17 and 96 times."
   ]
  },
  {
   "cell_type": "markdown",
   "metadata": {},
   "source": [
    "## debt ratio"
   ]
  },
  {
   "cell_type": "code",
   "execution_count": 20,
   "metadata": {},
   "outputs": [
    {
     "data": {
      "text/plain": [
       "count    150000.000000\n",
       "mean        353.005076\n",
       "std        2037.818523\n",
       "min           0.000000\n",
       "25%           0.175074\n",
       "50%           0.366508\n",
       "75%           0.868254\n",
       "max      329664.000000\n",
       "Name: DebtRatio, dtype: float64"
      ]
     },
     "execution_count": 20,
     "metadata": {},
     "output_type": "execute_result"
    }
   ],
   "source": [
    "train[\"DebtRatio\"].describe()"
   ]
  },
  {
   "cell_type": "code",
   "execution_count": 21,
   "metadata": {},
   "outputs": [
    {
     "data": {
      "text/plain": [
       "2449.0"
      ]
     },
     "execution_count": 21,
     "metadata": {},
     "output_type": "execute_result"
    }
   ],
   "source": [
    "train[\"DebtRatio\"].quantile(0.95)"
   ]
  },
  {
   "cell_type": "code",
   "execution_count": 22,
   "metadata": {},
   "outputs": [
    {
     "data": {
      "text/plain": [
       "331"
      ]
     },
     "execution_count": 22,
     "metadata": {},
     "output_type": "execute_result"
    }
   ],
   "source": [
    "train[train[\"DebtRatio\"]<1]\n",
    "# 95% of the values in debt ratio columns is less than 2449\n",
    "# 5% population has debt ratio greater than 2449: their debt is 2449 times their income\n",
    "len(train[(train[\"DebtRatio\"] > train[\"DebtRatio\"].quantile(0.95)) & (train['SeriousDlqin2yrs'] == train['MonthlyIncome'])])"
   ]
  },
  {
   "cell_type": "code",
   "execution_count": 23,
   "metadata": {},
   "outputs": [
    {
     "data": {
      "text/plain": [
       "0.0    347\n",
       "1.0     32\n",
       "Name: MonthlyIncome, dtype: int64"
      ]
     },
     "execution_count": 23,
     "metadata": {},
     "output_type": "execute_result"
    }
   ],
   "source": [
    "train.loc[train[\"DebtRatio\"] > train[\"DebtRatio\"].quantile(0.95)][\"MonthlyIncome\"].value_counts()"
   ]
  },
  {
   "cell_type": "code",
   "execution_count": 24,
   "metadata": {},
   "outputs": [
    {
     "name": "stdout",
     "output_type": "stream",
     "text": [
      "Number of people who owe around 2449 or more times what they own and have same values for MonthlyIncome and SeriousDlqin2yrs: 331\n"
     ]
    }
   ],
   "source": [
    "print(\"Number of people who owe around 2449 or more times what they own and have same values for MonthlyIncome and SeriousDlqin2yrs: {}\"\\\n",
    "     .format(len(train.loc[(train[\"DebtRatio\"] > train[\"DebtRatio\"].quantile(0.95)) & (train[\"MonthlyIncome\"] == train[\"SeriousDlqin2yrs\"])])))"
   ]
  },
  {
   "cell_type": "code",
   "execution_count": 25,
   "metadata": {},
   "outputs": [
    {
     "data": {
      "text/plain": [
       "3489.024999999994"
      ]
     },
     "execution_count": 25,
     "metadata": {},
     "output_type": "execute_result"
    }
   ],
   "source": [
    "train[\"DebtRatio\"].quantile(0.975)"
   ]
  },
  {
   "cell_type": "code",
   "execution_count": 26,
   "metadata": {},
   "outputs": [
    {
     "data": {
      "text/html": [
       "<div>\n",
       "<style scoped>\n",
       "    .dataframe tbody tr th:only-of-type {\n",
       "        vertical-align: middle;\n",
       "    }\n",
       "\n",
       "    .dataframe tbody tr th {\n",
       "        vertical-align: top;\n",
       "    }\n",
       "\n",
       "    .dataframe thead th {\n",
       "        text-align: right;\n",
       "    }\n",
       "</style>\n",
       "<table border=\"1\" class=\"dataframe\">\n",
       "  <thead>\n",
       "    <tr style=\"text-align: right;\">\n",
       "      <th></th>\n",
       "      <th>DebtRatio</th>\n",
       "      <th>MonthlyIncome</th>\n",
       "      <th>SeriousDlqin2yrs</th>\n",
       "    </tr>\n",
       "  </thead>\n",
       "  <tbody>\n",
       "    <tr>\n",
       "      <th>count</th>\n",
       "      <td>7494.000000</td>\n",
       "      <td>379.000000</td>\n",
       "      <td>7494.000000</td>\n",
       "    </tr>\n",
       "    <tr>\n",
       "      <th>mean</th>\n",
       "      <td>4417.958367</td>\n",
       "      <td>0.084433</td>\n",
       "      <td>0.055111</td>\n",
       "    </tr>\n",
       "    <tr>\n",
       "      <th>std</th>\n",
       "      <td>7875.314649</td>\n",
       "      <td>0.278403</td>\n",
       "      <td>0.228212</td>\n",
       "    </tr>\n",
       "    <tr>\n",
       "      <th>min</th>\n",
       "      <td>2450.000000</td>\n",
       "      <td>0.000000</td>\n",
       "      <td>0.000000</td>\n",
       "    </tr>\n",
       "    <tr>\n",
       "      <th>25%</th>\n",
       "      <td>2893.250000</td>\n",
       "      <td>0.000000</td>\n",
       "      <td>0.000000</td>\n",
       "    </tr>\n",
       "    <tr>\n",
       "      <th>50%</th>\n",
       "      <td>3491.000000</td>\n",
       "      <td>0.000000</td>\n",
       "      <td>0.000000</td>\n",
       "    </tr>\n",
       "    <tr>\n",
       "      <th>75%</th>\n",
       "      <td>4620.000000</td>\n",
       "      <td>0.000000</td>\n",
       "      <td>0.000000</td>\n",
       "    </tr>\n",
       "    <tr>\n",
       "      <th>max</th>\n",
       "      <td>329664.000000</td>\n",
       "      <td>1.000000</td>\n",
       "      <td>1.000000</td>\n",
       "    </tr>\n",
       "  </tbody>\n",
       "</table>\n",
       "</div>"
      ],
      "text/plain": [
       "           DebtRatio  MonthlyIncome  SeriousDlqin2yrs\n",
       "count    7494.000000     379.000000       7494.000000\n",
       "mean     4417.958367       0.084433          0.055111\n",
       "std      7875.314649       0.278403          0.228212\n",
       "min      2450.000000       0.000000          0.000000\n",
       "25%      2893.250000       0.000000          0.000000\n",
       "50%      3491.000000       0.000000          0.000000\n",
       "75%      4620.000000       0.000000          0.000000\n",
       "max    329664.000000       1.000000          1.000000"
      ]
     },
     "execution_count": 26,
     "metadata": {},
     "output_type": "execute_result"
    }
   ],
   "source": [
    "train.loc[train[\"DebtRatio\"] > train[\"DebtRatio\"].quantile(0.95)][[\"DebtRatio\", \"MonthlyIncome\", \"SeriousDlqin2yrs\"]].describe()"
   ]
  },
  {
   "cell_type": "code",
   "execution_count": 27,
   "metadata": {},
   "outputs": [
    {
     "data": {
      "text/html": [
       "<div>\n",
       "<style scoped>\n",
       "    .dataframe tbody tr th:only-of-type {\n",
       "        vertical-align: middle;\n",
       "    }\n",
       "\n",
       "    .dataframe tbody tr th {\n",
       "        vertical-align: top;\n",
       "    }\n",
       "\n",
       "    .dataframe thead th {\n",
       "        text-align: right;\n",
       "    }\n",
       "</style>\n",
       "<table border=\"1\" class=\"dataframe\">\n",
       "  <thead>\n",
       "    <tr style=\"text-align: right;\">\n",
       "      <th></th>\n",
       "      <th>Unnamed: 0</th>\n",
       "      <th>SeriousDlqin2yrs</th>\n",
       "      <th>RevolvingUtilizationOfUnsecuredLines</th>\n",
       "      <th>age</th>\n",
       "      <th>NumberOfTime30-59DaysPastDueNotWorse</th>\n",
       "      <th>DebtRatio</th>\n",
       "      <th>MonthlyIncome</th>\n",
       "      <th>NumberOfOpenCreditLinesAndLoans</th>\n",
       "      <th>NumberOfTimes90DaysLate</th>\n",
       "      <th>NumberRealEstateLoansOrLines</th>\n",
       "      <th>NumberOfTime60-89DaysPastDueNotWorse</th>\n",
       "      <th>NumberOfDependents</th>\n",
       "    </tr>\n",
       "  </thead>\n",
       "  <tbody>\n",
       "    <tr>\n",
       "      <th>count</th>\n",
       "      <td>331.000000</td>\n",
       "      <td>331.000000</td>\n",
       "      <td>331.000000</td>\n",
       "      <td>331.000000</td>\n",
       "      <td>331.000000</td>\n",
       "      <td>331.000000</td>\n",
       "      <td>331.000000</td>\n",
       "      <td>331.000000</td>\n",
       "      <td>331.000000</td>\n",
       "      <td>331.000000</td>\n",
       "      <td>331.000000</td>\n",
       "      <td>331.000000</td>\n",
       "    </tr>\n",
       "    <tr>\n",
       "      <th>mean</th>\n",
       "      <td>70480.851964</td>\n",
       "      <td>0.009063</td>\n",
       "      <td>0.346688</td>\n",
       "      <td>50.178248</td>\n",
       "      <td>0.232628</td>\n",
       "      <td>4620.460725</td>\n",
       "      <td>0.009063</td>\n",
       "      <td>10.329305</td>\n",
       "      <td>0.021148</td>\n",
       "      <td>1.679758</td>\n",
       "      <td>0.045317</td>\n",
       "      <td>1.208459</td>\n",
       "    </tr>\n",
       "    <tr>\n",
       "      <th>std</th>\n",
       "      <td>42895.128501</td>\n",
       "      <td>0.094913</td>\n",
       "      <td>0.346070</td>\n",
       "      <td>11.127972</td>\n",
       "      <td>0.667623</td>\n",
       "      <td>4796.584515</td>\n",
       "      <td>0.094913</td>\n",
       "      <td>4.988807</td>\n",
       "      <td>0.144096</td>\n",
       "      <td>0.907969</td>\n",
       "      <td>0.248146</td>\n",
       "      <td>1.423415</td>\n",
       "    </tr>\n",
       "    <tr>\n",
       "      <th>min</th>\n",
       "      <td>51.000000</td>\n",
       "      <td>0.000000</td>\n",
       "      <td>0.000000</td>\n",
       "      <td>26.000000</td>\n",
       "      <td>0.000000</td>\n",
       "      <td>2451.000000</td>\n",
       "      <td>0.000000</td>\n",
       "      <td>1.000000</td>\n",
       "      <td>0.000000</td>\n",
       "      <td>0.000000</td>\n",
       "      <td>0.000000</td>\n",
       "      <td>0.000000</td>\n",
       "    </tr>\n",
       "    <tr>\n",
       "      <th>25%</th>\n",
       "      <td>33436.000000</td>\n",
       "      <td>0.000000</td>\n",
       "      <td>0.047404</td>\n",
       "      <td>42.000000</td>\n",
       "      <td>0.000000</td>\n",
       "      <td>2850.500000</td>\n",
       "      <td>0.000000</td>\n",
       "      <td>7.000000</td>\n",
       "      <td>0.000000</td>\n",
       "      <td>1.000000</td>\n",
       "      <td>0.000000</td>\n",
       "      <td>0.000000</td>\n",
       "    </tr>\n",
       "    <tr>\n",
       "      <th>50%</th>\n",
       "      <td>67938.000000</td>\n",
       "      <td>0.000000</td>\n",
       "      <td>0.250410</td>\n",
       "      <td>48.000000</td>\n",
       "      <td>0.000000</td>\n",
       "      <td>3481.000000</td>\n",
       "      <td>0.000000</td>\n",
       "      <td>10.000000</td>\n",
       "      <td>0.000000</td>\n",
       "      <td>2.000000</td>\n",
       "      <td>0.000000</td>\n",
       "      <td>1.000000</td>\n",
       "    </tr>\n",
       "    <tr>\n",
       "      <th>75%</th>\n",
       "      <td>106623.000000</td>\n",
       "      <td>0.000000</td>\n",
       "      <td>0.580508</td>\n",
       "      <td>58.000000</td>\n",
       "      <td>0.000000</td>\n",
       "      <td>4685.000000</td>\n",
       "      <td>0.000000</td>\n",
       "      <td>13.000000</td>\n",
       "      <td>0.000000</td>\n",
       "      <td>2.000000</td>\n",
       "      <td>0.000000</td>\n",
       "      <td>2.000000</td>\n",
       "    </tr>\n",
       "    <tr>\n",
       "      <th>max</th>\n",
       "      <td>149674.000000</td>\n",
       "      <td>1.000000</td>\n",
       "      <td>1.648352</td>\n",
       "      <td>83.000000</td>\n",
       "      <td>4.000000</td>\n",
       "      <td>60212.000000</td>\n",
       "      <td>1.000000</td>\n",
       "      <td>31.000000</td>\n",
       "      <td>1.000000</td>\n",
       "      <td>7.000000</td>\n",
       "      <td>2.000000</td>\n",
       "      <td>10.000000</td>\n",
       "    </tr>\n",
       "  </tbody>\n",
       "</table>\n",
       "</div>"
      ],
      "text/plain": [
       "          Unnamed: 0  SeriousDlqin2yrs  RevolvingUtilizationOfUnsecuredLines  \\\n",
       "count     331.000000        331.000000                            331.000000   \n",
       "mean    70480.851964          0.009063                              0.346688   \n",
       "std     42895.128501          0.094913                              0.346070   \n",
       "min        51.000000          0.000000                              0.000000   \n",
       "25%     33436.000000          0.000000                              0.047404   \n",
       "50%     67938.000000          0.000000                              0.250410   \n",
       "75%    106623.000000          0.000000                              0.580508   \n",
       "max    149674.000000          1.000000                              1.648352   \n",
       "\n",
       "              age  NumberOfTime30-59DaysPastDueNotWorse     DebtRatio  \\\n",
       "count  331.000000                            331.000000    331.000000   \n",
       "mean    50.178248                              0.232628   4620.460725   \n",
       "std     11.127972                              0.667623   4796.584515   \n",
       "min     26.000000                              0.000000   2451.000000   \n",
       "25%     42.000000                              0.000000   2850.500000   \n",
       "50%     48.000000                              0.000000   3481.000000   \n",
       "75%     58.000000                              0.000000   4685.000000   \n",
       "max     83.000000                              4.000000  60212.000000   \n",
       "\n",
       "       MonthlyIncome  NumberOfOpenCreditLinesAndLoans  \\\n",
       "count     331.000000                       331.000000   \n",
       "mean        0.009063                        10.329305   \n",
       "std         0.094913                         4.988807   \n",
       "min         0.000000                         1.000000   \n",
       "25%         0.000000                         7.000000   \n",
       "50%         0.000000                        10.000000   \n",
       "75%         0.000000                        13.000000   \n",
       "max         1.000000                        31.000000   \n",
       "\n",
       "       NumberOfTimes90DaysLate  NumberRealEstateLoansOrLines  \\\n",
       "count               331.000000                    331.000000   \n",
       "mean                  0.021148                      1.679758   \n",
       "std                   0.144096                      0.907969   \n",
       "min                   0.000000                      0.000000   \n",
       "25%                   0.000000                      1.000000   \n",
       "50%                   0.000000                      2.000000   \n",
       "75%                   0.000000                      2.000000   \n",
       "max                   1.000000                      7.000000   \n",
       "\n",
       "       NumberOfTime60-89DaysPastDueNotWorse  NumberOfDependents  \n",
       "count                            331.000000          331.000000  \n",
       "mean                               0.045317            1.208459  \n",
       "std                                0.248146            1.423415  \n",
       "min                                0.000000            0.000000  \n",
       "25%                                0.000000            0.000000  \n",
       "50%                                0.000000            1.000000  \n",
       "75%                                0.000000            2.000000  \n",
       "max                                2.000000           10.000000  "
      ]
     },
     "execution_count": 27,
     "metadata": {},
     "output_type": "execute_result"
    }
   ],
   "source": [
    "train[(train[\"DebtRatio\"] > train[\"DebtRatio\"].quantile(0.95)) & (train['SeriousDlqin2yrs'] == train['MonthlyIncome'])].describe()\n",
    "# length=331"
   ]
  },
  {
   "cell_type": "code",
   "execution_count": 28,
   "metadata": {},
   "outputs": [
    {
     "data": {
      "text/plain": [
       "7163"
      ]
     },
     "execution_count": 28,
     "metadata": {},
     "output_type": "execute_result"
    }
   ],
   "source": [
    "len(train[(train[\"DebtRatio\"] > train[\"DebtRatio\"].quantile(0.95)) & (train['SeriousDlqin2yrs'] != train['MonthlyIncome'])])\n",
    "# lenght=7163"
   ]
  },
  {
   "cell_type": "code",
   "execution_count": 29,
   "metadata": {},
   "outputs": [
    {
     "data": {
      "text/plain": [
       "0.0    347\n",
       "1.0     32\n",
       "Name: MonthlyIncome, dtype: int64"
      ]
     },
     "execution_count": 29,
     "metadata": {},
     "output_type": "execute_result"
    }
   ],
   "source": [
    "train.loc[train[\"DebtRatio\"] > train[\"DebtRatio\"].quantile(0.95)][\"MonthlyIncome\"].value_counts()"
   ]
  },
  {
   "cell_type": "code",
   "execution_count": 30,
   "metadata": {},
   "outputs": [
    {
     "name": "stdout",
     "output_type": "stream",
     "text": [
      "Number of people who owe around 2449 or more times what they own and have same values for MonthlyIncome and SeriousDlqin2yrs: 331\n"
     ]
    }
   ],
   "source": [
    "print(\"Number of people who owe around 2449 or more times what they own and have same values for MonthlyIncome and SeriousDlqin2yrs: {}\"\\\n",
    "     .format(len(train.loc[(train[\"DebtRatio\"] > train[\"DebtRatio\"].quantile(0.95)) & (train[\"MonthlyIncome\"] == train[\"SeriousDlqin2yrs\"])])))"
   ]
  },
  {
   "cell_type": "markdown",
   "metadata": {},
   "source": [
    "## MonthlyIncome"
   ]
  },
  {
   "cell_type": "code",
   "execution_count": 236,
   "metadata": {},
   "outputs": [],
   "source": [
    "# train['monthlyincome'].describe()"
   ]
  },
  {
   "cell_type": "code",
   "execution_count": 237,
   "metadata": {},
   "outputs": [],
   "source": [
    "# train[\"MonthlyIncome\"].describe()"
   ]
  },
  {
   "cell_type": "code",
   "execution_count": 33,
   "metadata": {},
   "outputs": [
    {
     "name": "stdout",
     "output_type": "stream",
     "text": [
      "0.0    347\n",
      "1.0     32\n",
      "Name: MonthlyIncome, dtype: int64\n"
     ]
    },
    {
     "data": {
      "image/png": "[encoded data removed]",
      "text/plain": [
       "<Figure size 432x288 with 1 Axes>"
      ]
     },
     "metadata": {},
     "output_type": "display_data"
    }
   ],
   "source": [
    "sns.distplot(train.loc[train[\"DebtRatio\"] > train[\"DebtRatio\"].quantile(0.95)][\"MonthlyIncome\"].dropna())\n",
    "print((train.loc[train[\"DebtRatio\"] > train[\"DebtRatio\"].quantile(0.95)][\"MonthlyIncome\"].dropna()).value_counts())"
   ]
  },
  {
   "cell_type": "markdown",
   "metadata": {},
   "source": [
    "## NumberOfOpenCreditLinesAndLoans"
   ]
  },
  {
   "cell_type": "code",
   "execution_count": 34,
   "metadata": {},
   "outputs": [
    {
     "data": {
      "text/plain": [
       "count    150000.000000\n",
       "mean          8.452760\n",
       "std           5.145951\n",
       "min           0.000000\n",
       "25%           5.000000\n",
       "50%           8.000000\n",
       "75%          11.000000\n",
       "max          58.000000\n",
       "Name: NumberOfOpenCreditLinesAndLoans, dtype: float64"
      ]
     },
     "execution_count": 34,
     "metadata": {},
     "output_type": "execute_result"
    }
   ],
   "source": [
    "train[\"NumberOfOpenCreditLinesAndLoans\"].describe()"
   ]
  },
  {
   "cell_type": "code",
   "execution_count": 35,
   "metadata": {},
   "outputs": [],
   "source": [
    "#train[\"NumberOfOpenCreditLinesAndLoans\"].value_counts()"
   ]
  },
  {
   "cell_type": "code",
   "execution_count": 36,
   "metadata": {},
   "outputs": [
    {
     "data": {
      "text/plain": [
       "<matplotlib.axes._subplots.AxesSubplot at 0x24b9c1e9a58>"
      ]
     },
     "execution_count": 36,
     "metadata": {},
     "output_type": "execute_result"
    },
    {
     "data": {
      "image/png": "[encoded data removed]",
      "text/plain": [
       "<Figure size 432x288 with 1 Axes>"
      ]
     },
     "metadata": {},
     "output_type": "display_data"
    }
   ],
   "source": [
    "sns.distplot(train[\"NumberOfOpenCreditLinesAndLoans\"])"
   ]
  },
  {
   "cell_type": "markdown",
   "metadata": {},
   "source": [
    "## NumberRealEstateLoansOrLines"
   ]
  },
  {
   "cell_type": "code",
   "execution_count": 232,
   "metadata": {},
   "outputs": [],
   "source": [
    "# train[\"NumberRealEstateLoansOrLines\"].describe()"
   ]
  },
  {
   "cell_type": "code",
   "execution_count": 233,
   "metadata": {},
   "outputs": [],
   "source": [
    "# train[\"NumberRealEstateLoansOrLines\"].value_counts()"
   ]
  },
  {
   "cell_type": "code",
   "execution_count": 39,
   "metadata": {},
   "outputs": [
    {
     "data": {
      "text/plain": [
       "<matplotlib.axes._subplots.AxesSubplot at 0x24b9b97c198>"
      ]
     },
     "execution_count": 39,
     "metadata": {},
     "output_type": "execute_result"
    },
    {
     "data": {
      "image/png": "[encoded data removed]",
      "text/plain": [
       "<Figure size 432x288 with 1 Axes>"
      ]
     },
     "metadata": {},
     "output_type": "display_data"
    }
   ],
   "source": [
    "sns.countplot(x=\"NumberRealEstateLoansOrLines\", data=train.loc[train[\"NumberRealEstateLoansOrLines\"] <= 10])"
   ]
  },
  {
   "cell_type": "code",
   "execution_count": 40,
   "metadata": {},
   "outputs": [
    {
     "data": {
      "text/plain": [
       "0    30\n",
       "1     8\n",
       "Name: SeriousDlqin2yrs, dtype: int64"
      ]
     },
     "execution_count": 40,
     "metadata": {},
     "output_type": "execute_result"
    }
   ],
   "source": [
    "train.loc[train[\"NumberRealEstateLoansOrLines\"] > 13][\"SeriousDlqin2yrs\"].value_counts()"
   ]
  },
  {
   "cell_type": "markdown",
   "metadata": {},
   "source": [
    "## NumberOfDependents"
   ]
  },
  {
   "cell_type": "code",
   "execution_count": 41,
   "metadata": {},
   "outputs": [
    {
     "name": "stdout",
     "output_type": "stream",
     "text": [
      "0.0     86902\n",
      "1.0     26316\n",
      "2.0     19522\n",
      "3.0      9483\n",
      "4.0      2862\n",
      "5.0       746\n",
      "6.0       158\n",
      "7.0        51\n",
      "8.0        24\n",
      "9.0         5\n",
      "10.0        5\n",
      "13.0        1\n",
      "20.0        1\n",
      "Name: NumberOfDependents, dtype: int64\n"
     ]
    }
   ],
   "source": [
    "print(train[\"NumberOfDependents\"].value_counts())\n",
    "\n",
    "#we can see that it is extremely right-skewed in our database, \n",
    "#with the majority of individuals with no dependents. "
   ]
  },
  {
   "cell_type": "code",
   "execution_count": 42,
   "metadata": {},
   "outputs": [
    {
     "data": {
      "text/plain": [
       "0    136227\n",
       "1      9847\n",
       "Name: SeriousDlqin2yrs, dtype: int64"
      ]
     },
     "execution_count": 42,
     "metadata": {},
     "output_type": "execute_result"
    }
   ],
   "source": [
    "train.loc[train[\"NumberOfDependents\"] <= 10][\"SeriousDlqin2yrs\"].value_counts()"
   ]
  },
  {
   "cell_type": "code",
   "execution_count": 43,
   "metadata": {},
   "outputs": [
    {
     "data": {
      "text/plain": [
       "0    2\n",
       "Name: SeriousDlqin2yrs, dtype: int64"
      ]
     },
     "execution_count": 43,
     "metadata": {},
     "output_type": "execute_result"
    }
   ],
   "source": [
    "train.loc[train[\"NumberOfDependents\"] > 10][\"SeriousDlqin2yrs\"].value_counts()"
   ]
  },
  {
   "cell_type": "code",
   "execution_count": 44,
   "metadata": {},
   "outputs": [
    {
     "data": {
      "text/html": [
       "<div>\n",
       "<style scoped>\n",
       "    .dataframe tbody tr th:only-of-type {\n",
       "        vertical-align: middle;\n",
       "    }\n",
       "\n",
       "    .dataframe tbody tr th {\n",
       "        vertical-align: top;\n",
       "    }\n",
       "\n",
       "    .dataframe thead th {\n",
       "        text-align: right;\n",
       "    }\n",
       "</style>\n",
       "<table border=\"1\" class=\"dataframe\">\n",
       "  <thead>\n",
       "    <tr style=\"text-align: right;\">\n",
       "      <th></th>\n",
       "      <th>Unnamed: 0</th>\n",
       "      <th>SeriousDlqin2yrs</th>\n",
       "      <th>RevolvingUtilizationOfUnsecuredLines</th>\n",
       "      <th>age</th>\n",
       "      <th>NumberOfTime30-59DaysPastDueNotWorse</th>\n",
       "      <th>DebtRatio</th>\n",
       "      <th>MonthlyIncome</th>\n",
       "      <th>NumberOfOpenCreditLinesAndLoans</th>\n",
       "      <th>NumberOfTimes90DaysLate</th>\n",
       "      <th>NumberRealEstateLoansOrLines</th>\n",
       "      <th>NumberOfTime60-89DaysPastDueNotWorse</th>\n",
       "      <th>NumberOfDependents</th>\n",
       "    </tr>\n",
       "  </thead>\n",
       "  <tbody>\n",
       "    <tr>\n",
       "      <th>6299</th>\n",
       "      <td>6300</td>\n",
       "      <td>0</td>\n",
       "      <td>0.226616</td>\n",
       "      <td>40</td>\n",
       "      <td>1</td>\n",
       "      <td>0.576539</td>\n",
       "      <td>6316.0</td>\n",
       "      <td>11</td>\n",
       "      <td>2</td>\n",
       "      <td>1</td>\n",
       "      <td>0</td>\n",
       "      <td>20.0</td>\n",
       "    </tr>\n",
       "  </tbody>\n",
       "</table>\n",
       "</div>"
      ],
      "text/plain": [
       "      Unnamed: 0  SeriousDlqin2yrs  RevolvingUtilizationOfUnsecuredLines  age  \\\n",
       "6299        6300                 0                              0.226616   40   \n",
       "\n",
       "      NumberOfTime30-59DaysPastDueNotWorse  DebtRatio  MonthlyIncome  \\\n",
       "6299                                     1   0.576539         6316.0   \n",
       "\n",
       "      NumberOfOpenCreditLinesAndLoans  NumberOfTimes90DaysLate  \\\n",
       "6299                               11                        2   \n",
       "\n",
       "      NumberRealEstateLoansOrLines  NumberOfTime60-89DaysPastDueNotWorse  \\\n",
       "6299                             1                                     0   \n",
       "\n",
       "      NumberOfDependents  \n",
       "6299                20.0  "
      ]
     },
     "execution_count": 44,
     "metadata": {},
     "output_type": "execute_result"
    }
   ],
   "source": [
    "train.loc[train['NumberOfDependents']==20]"
   ]
  },
  {
   "cell_type": "markdown",
   "metadata": {},
   "source": [
    "**This individual with the highest number of dependents doesn't look to be erroneous and should serve as a valid observation**"
   ]
  },
  {
   "cell_type": "markdown",
   "metadata": {},
   "source": [
    "## conclusions of eda:\n",
    "1. Around 6% of samples defaulted\n",
    "\n",
    "2. **MonthlyIncome and NumberOfDependents** have 29731 (19.82%) and 3924 (2.61%) null values respectively\n",
    "\n",
    "3.  when NumberOfTimes90DaysLate has values above 17, there are 267 instances where the three columns          NumberOfTimes90DaysLate, NumberOfTime60-89DaysPastDueNotWorse, NumberOfTime30-59DaysPastDueNotWorse \n",
    "     share the same values, specifically 96 and 98.\n",
    "\n",
    "4. also logically, sharing the same values of 96 and 98 respectively is not logical since trivial calculations can reveal    that being 30 days past due for 96 times for a single person within a timespan of 2 years is not possible.\n",
    "\n",
    "5. **RevolvingUtilizationOfUnsecuredLines-**\n",
    "\n",
    "   distribution of values is right-skewed, consider removing outliers\n",
    "   It is expected that as this value increases, the proportion of people defaulting should increase as well\n",
    "   However, we can see that as the minimum value of this column is set to 13, the proportion of defaulters is smaller than that belonging to the   pool of clients with total amount of money owed not exceeding total credit limit.\n",
    "   Thus we should remove those samples with RevolvingUtilizationOfUnsecuredLines's value more than equal to 13\n",
    "   age\n",
    "   There seems to be more younger people defaulting and the distribution seems fine on the whole\n",
    "6. **NumberOfTimes90DaysLate-**\n",
    "\n",
    "   It is interesting to note that there are no one who is 90 or more days past due between 17 and 96 times.\n",
    "7. **NumberOfTime60-89DaysPastDueNotWorse-**\n",
    "\n",
    "   It is interesting to note that there are no one who is 60-89 days past due between 11 and 96 times.\n",
    "8. **NumberOfTime30-59DaysPastDueNotWorse-**\n",
    "\n",
    "   It is interesting to note that there are no one who is 30-59 days past due between 13 and 96 times.\n",
    "9. **DebtRatio-**\n",
    "\n",
    "   5% of clients owe around 2449 or more times what they own\n",
    "   For the people who have monthly income in this 5%, only 379 people have values for their monthly incomes and the   values are either 0 or 1.\n",
    "   Number of people who owe around 2449 or more times what they own and have same values for MonthlyIncome and SeriousDlqin2yrs: 331\n",
    "   Number of people who owe around 2449 or more times what they own and dont  have same values for MonthlyIncome and  SeriousDlqin2yrs: 7163\n",
    "   There are 379 ,out of these 347 have no monthly income and does not default and 32 with monthly income and does default.\n",
    "10. **MonthlyIncome-**\n",
    "\n",
    "    Distribution of values is skewed, we can consider imputation with median.\n",
    "    We can also consider imputing with normally distributed values with its mean and standard deviation.\n",
    "11. **Numberof Dependents-**\n",
    "\n",
    "    We can consider imputing with its mode, which is zero\n",
    "12. **NumberRealEstateLoansOrLines-**\n",
    "\n",
    "    8  people with Number of real estate loans or lines more than 13 have defaulted.\n",
    "    30 people have not defaulted"
   ]
  },
  {
   "cell_type": "markdown",
   "metadata": {},
   "source": [
    "## preprocessing of data :\n",
    "1. shorten long names\n",
    "2. impute missing values.\n",
    "3. treat outliers and unnatural values."
   ]
  },
  {
   "cell_type": "code",
   "execution_count": 45,
   "metadata": {},
   "outputs": [
    {
     "data": {
      "text/plain": [
       "Unnamed: 0                                  0\n",
       "SeriousDlqin2yrs                            0\n",
       "RevolvingUtilizationOfUnsecuredLines        0\n",
       "age                                         0\n",
       "NumberOfTime30-59DaysPastDueNotWorse        0\n",
       "DebtRatio                                   0\n",
       "MonthlyIncome                           29731\n",
       "NumberOfOpenCreditLinesAndLoans             0\n",
       "NumberOfTimes90DaysLate                     0\n",
       "NumberRealEstateLoansOrLines                0\n",
       "NumberOfTime60-89DaysPastDueNotWorse        0\n",
       "NumberOfDependents                       3924\n",
       "dtype: int64"
      ]
     },
     "execution_count": 45,
     "metadata": {},
     "output_type": "execute_result"
    }
   ],
   "source": [
    "train.isnull().sum()"
   ]
  },
  {
   "cell_type": "code",
   "execution_count": 46,
   "metadata": {},
   "outputs": [
    {
     "name": "stdout",
     "output_type": "stream",
     "text": [
      " preprocessing Done...\n",
      "\n"
     ]
    }
   ],
   "source": [
    "dependents_mode = train[\"NumberOfDependents\"].mode()[0] # impute with mode for no. of dependents\n",
    "train[\"NumberOfDependents\"] = train[\"NumberOfDependents\"].fillna(dependents_mode)\n",
    "\n",
    "    \n",
    "income_median = train[\"MonthlyIncome\"].median()# impute with median for monthly income\n",
    "train[\"MonthlyIncome\"] = train[\"MonthlyIncome\"].fillna(income_median)\n",
    "\n",
    "# train['NumberOfTimes90DaysLate']=train[train['NumberOfTimes90DaysLate']>18]['NumberOfTimes90DaysLate']\n",
    "    \n",
    "print(\" preprocessing Done...\\n\")\n",
    "# train.isnull().sum()"
   ]
  },
  {
   "cell_type": "code",
   "execution_count": 238,
   "metadata": {},
   "outputs": [],
   "source": [
    "# train.isnull().sum()"
   ]
  },
  {
   "cell_type": "code",
   "execution_count": 48,
   "metadata": {},
   "outputs": [],
   "source": [
    "#Rename columns for easier manipulation\n",
    "train.rename(columns = {'SeriousDlqin2yrs': 'delinquency', 'RevolvingUtilizationOfUnsecuredLines':'revolvingcreditrate',\n",
    "                    'NumberOfTime30-59DaysPastDueNotWorse': '30-59days', \n",
    "                     'NumberOfOpenCreditLinesAndLoans':'opencredit', 'NumberOfTimes90DaysLate':'>=90days',\n",
    "                    'NumberRealEstateLoansOrLines':'mortgage', 'NumberOfTime60-89DaysPastDueNotWorse':'60-89days',\n",
    "                    'NumberOfDependents':'dependents'}, inplace=True)"
   ]
  },
  {
   "cell_type": "code",
   "execution_count": 49,
   "metadata": {},
   "outputs": [],
   "source": [
    "train.drop('Unnamed: 0',1, inplace=True)"
   ]
  },
  {
   "cell_type": "code",
   "execution_count": 50,
   "metadata": {},
   "outputs": [
    {
     "name": "stdout",
     "output_type": "stream",
     "text": [
      "<class 'pandas.core.frame.DataFrame'>\n",
      "RangeIndex: 150000 entries, 0 to 149999\n",
      "Data columns (total 11 columns):\n",
      "delinquency            150000 non-null int64\n",
      "revolvingcreditrate    150000 non-null float64\n",
      "age                    150000 non-null int64\n",
      "30-59days              150000 non-null int64\n",
      "DebtRatio              150000 non-null float64\n",
      "MonthlyIncome          150000 non-null float64\n",
      "opencredit             150000 non-null int64\n",
      ">=90days               150000 non-null int64\n",
      "mortgage               150000 non-null int64\n",
      "60-89days              150000 non-null int64\n",
      "dependents             150000 non-null float64\n",
      "dtypes: float64(4), int64(7)\n",
      "memory usage: 12.6 MB\n"
     ]
    }
   ],
   "source": [
    "# train.info()"
   ]
  },
  {
   "cell_type": "code",
   "execution_count": 51,
   "metadata": {},
   "outputs": [],
   "source": [
    "#Set all column headers to lower\n",
    "train.columns=[x.lower() for x in train.columns]\n"
   ]
  },
  {
   "cell_type": "code",
   "execution_count": 231,
   "metadata": {},
   "outputs": [],
   "source": [
    "# # generating correlation matrix\n",
    "# fig, ax = plt.subplots(figsize=(12,12))\n",
    "# sns.heatmap(train.corr(),xticklabels=train.corr().columns,yticklabels=train.corr().columns,annot=True,ax=ax)\n",
    "# #sns.heatmap(train.corr())"
   ]
  },
  {
   "cell_type": "markdown",
   "metadata": {},
   "source": [
    "## baseline model"
   ]
  },
  {
   "cell_type": "code",
   "execution_count": 52,
   "metadata": {},
   "outputs": [
    {
     "data": {
      "text/plain": [
       "0    139974\n",
       "1     10026\n",
       "Name: delinquency, dtype: int64"
      ]
     },
     "execution_count": 52,
     "metadata": {},
     "output_type": "execute_result"
    }
   ],
   "source": [
    "# Independent variables\n",
    "X = train.drop(['delinquency'],axis = 1)\n",
    "\n",
    "# Dependent variable\n",
    "y = train['delinquency']\n",
    "\n",
    "# Check the value counts\n",
    "count = y.value_counts()\n",
    "count"
   ]
  },
  {
   "cell_type": "code",
   "execution_count": 53,
   "metadata": {},
   "outputs": [],
   "source": [
    "#  Split the data set into train and test sets 70/30 ratio\n",
    "# baseline model\n",
    "#X_train,X_test,y_train,y_test = train_test_split(X,y,test_size = 0.3,random_state = 6)"
   ]
  },
  {
   "cell_type": "code",
   "execution_count": 63,
   "metadata": {},
   "outputs": [],
   "source": [
    "f1 = []\n",
    "def run_model(predictors,target, model):\n",
    "    X_train, X_test, y_train, y_test = train_test_split(predictors, target, test_size=0.2, random_state=6)\n",
    "    model.fit(X_train, y_train)\n",
    "    y_scores = model.predict(X_test)\n",
    "    print('Train Accuracy:\\n',model.score(X_train,y_train).round(3))\n",
    "    print('Validation Accuracy:\\n',model.score(X_test,y_test).round(3))\n",
    "    print('Classification Report:\\n',classification_report(y_test, y_scores))\n",
    "    print(\"Precision Score : \",precision_score(y_test, y_scores,average='weighted').round(3))\n",
    "    print(\"Recall Score : \",recall_score(y_test, y_scores,average='weighted').round(3))\n",
    "    \n",
    "    # calculating the f1 score for the validation set\n",
    "    print(\"F1 score :\", f1_score(y_test, y_scores,average='weighted').round(3))\n",
    "    f1.append(f1_score(y_test, y_scores,average='weighted').round(3))\n",
    "    print(\"=\"*120)\n",
    "    return f1\n"
   ]
  },
  {
   "cell_type": "code",
   "execution_count": 59,
   "metadata": {},
   "outputs": [],
   "source": [
    "from sklearn.linear_model import LogisticRegressionCV\n",
    "from sklearn.ensemble import GradientBoostingClassifier"
   ]
  },
  {
   "cell_type": "code",
   "execution_count": 60,
   "metadata": {},
   "outputs": [
    {
     "name": "stdout",
     "output_type": "stream",
     "text": [
      "================================================== Logistic Regression ==================================================\n",
      "Train Accuracy:\n",
      " 0.933\n",
      "Validation Accuracy:\n",
      " 0.935\n",
      "Classification Report:\n",
      "               precision    recall  f1-score   support\n",
      "\n",
      "           0       0.94      1.00      0.97     28044\n",
      "           1       0.49      0.01      0.02      1956\n",
      "\n",
      "    accuracy                           0.93     30000\n",
      "   macro avg       0.71      0.51      0.50     30000\n",
      "weighted avg       0.91      0.93      0.90     30000\n",
      "\n",
      "Precision Score :  0.906\n",
      "Recall Score :  0.935\n",
      "F1 score : 0.905\n",
      "========================================================================================================================\n",
      "================================================== Decision Tree ==================================================\n",
      "Train Accuracy:\n",
      " 1.0\n",
      "Validation Accuracy:\n",
      " 0.899\n",
      "Classification Report:\n",
      "               precision    recall  f1-score   support\n",
      "\n",
      "           0       0.95      0.94      0.95     28044\n",
      "           1       0.25      0.28      0.26      1956\n",
      "\n",
      "    accuracy                           0.90     30000\n",
      "   macro avg       0.60      0.61      0.60     30000\n",
      "weighted avg       0.90      0.90      0.90     30000\n",
      "\n",
      "Precision Score :  0.904\n",
      "Recall Score :  0.899\n",
      "F1 score : 0.901\n",
      "========================================================================================================================\n",
      "================================================== Random Forest ==================================================\n",
      "Train Accuracy:\n",
      " 1.0\n",
      "Validation Accuracy:\n",
      " 0.936\n",
      "Classification Report:\n",
      "               precision    recall  f1-score   support\n",
      "\n",
      "           0       0.95      0.99      0.97     28044\n",
      "           1       0.52      0.19      0.28      1956\n",
      "\n",
      "    accuracy                           0.94     30000\n",
      "   macro avg       0.73      0.59      0.62     30000\n",
      "weighted avg       0.92      0.94      0.92     30000\n",
      "\n",
      "Precision Score :  0.918\n",
      "Recall Score :  0.936\n",
      "F1 score : 0.921\n",
      "========================================================================================================================\n",
      "================================================== MNB ==================================================\n",
      "Train Accuracy:\n",
      " 0.213\n",
      "Validation Accuracy:\n",
      " 0.208\n",
      "Classification Report:\n",
      "               precision    recall  f1-score   support\n",
      "\n",
      "           0       0.94      0.16      0.28     28044\n",
      "           1       0.07      0.86      0.12      1956\n",
      "\n",
      "    accuracy                           0.21     30000\n",
      "   macro avg       0.50      0.51      0.20     30000\n",
      "weighted avg       0.88      0.21      0.27     30000\n",
      "\n",
      "Precision Score :  0.885\n",
      "Recall Score :  0.208\n",
      "F1 score : 0.268\n",
      "========================================================================================================================\n",
      "================================================== LogregCV ==================================================\n",
      "Train Accuracy:\n",
      " 0.933\n",
      "Validation Accuracy:\n",
      " 0.935\n",
      "Classification Report:\n",
      "               precision    recall  f1-score   support\n",
      "\n",
      "           0       0.94      1.00      0.97     28044\n",
      "           1       0.54      0.02      0.04      1956\n",
      "\n",
      "    accuracy                           0.94     30000\n",
      "   macro avg       0.74      0.51      0.50     30000\n",
      "weighted avg       0.91      0.94      0.91     30000\n",
      "\n",
      "Precision Score :  0.91\n",
      "Recall Score :  0.935\n",
      "F1 score : 0.906\n",
      "========================================================================================================================\n",
      "Max f1_score is 0.921 in model Random Forest\n"
     ]
    }
   ],
   "source": [
    "models = {'Logistic Regression':LogisticRegression()\n",
    "          ,'Decision Tree':DecisionTreeClassifier()\n",
    "          ,'Random Forest': RandomForestClassifier()\n",
    "          ,'MNB':MultinomialNB()\n",
    "          ,'LogregCV':LogisticRegressionCV(penalty='l2', Cs=200, cv=5, random_state=123)}\n",
    "         # ,'gradientboost':GradientBoostingClassifier(random_state=123)}\n",
    "\n",
    "j = 0\n",
    "for i in models.items():\n",
    "    print('='*50,list(models.keys())[j],'='*50)\n",
    "    model = i[1]\n",
    "    a = run_model(X, y, model)\n",
    "    j=j+1\n",
    "print('Max f1_score is {} in model {}'.format(max(a),list(models.keys())[a.index(max(a))]))"
   ]
  },
  {
   "cell_type": "code",
   "execution_count": 76,
   "metadata": {},
   "outputs": [
    {
     "name": "stdout",
     "output_type": "stream",
     "text": [
      "Train Accuracy:\n",
      " 0.938\n",
      "Validation Accuracy:\n",
      " 0.938\n",
      "Classification Report:\n",
      "               precision    recall  f1-score   support\n",
      "\n",
      "           0       0.95      0.99      0.97     28044\n",
      "           1       0.57      0.19      0.29      1956\n",
      "\n",
      "    accuracy                           0.94     30000\n",
      "   macro avg       0.76      0.59      0.63     30000\n",
      "weighted avg       0.92      0.94      0.92     30000\n",
      "\n",
      "Precision Score :  0.921\n",
      "Recall Score :  0.938\n",
      "F1 score : 0.923\n"
     ]
    }
   ],
   "source": [
    "X_train, X_test, y_train, y_test = train_test_split(X,y, test_size=0.2, random_state=6)\n",
    "gbc = GradientBoostingClassifier(random_state=123)\n",
    "# gbc.fit(X_train, y_train)\n",
    "gbc.fit(X_train, y_train)\n",
    "y_gbc = gbc.predict(X_test)\n",
    "print('Train Accuracy:\\n',gbc.score(X_train,y_train).round(3))\n",
    "print('Validation Accuracy:\\n',gbc.score(X_test,y_test).round(3))\n",
    "print('Classification Report:\\n',classification_report(y_test, y_gbc))\n",
    "print(\"Precision Score : \",precision_score(y_test, y_gbc,average='weighted').round(3))\n",
    "print(\"Recall Score : \",recall_score(y_test, y_gbc,average='weighted').round(3))\n",
    "    \n",
    "# calculating the f1 score for the validation set\n",
    "print(\"F1 score :\", f1_score(y_test, y_gbc,average='weighted').round(3))\n",
    "#     f1.append(f1_score(y_test, y_scores,average='weighted').round(3))"
   ]
  },
  {
   "cell_type": "markdown",
   "metadata": {},
   "source": [
    "### best f1 score shown by gradientboost , score=0.923\n",
    "##### SMOTEENN :\n",
    "We need to account for the imbalance in the classes. For that, I will be using SMOTE followed by Edited Nearest Neighbours. SMOTE oversamples the minority class followed by undersampling of the majority class by editing for nearest neighbors similarity"
   ]
  },
  {
   "cell_type": "code",
   "execution_count": 65,
   "metadata": {},
   "outputs": [
    {
     "name": "stderr",
     "output_type": "stream",
     "text": [
      "Using TensorFlow backend.\n"
     ]
    }
   ],
   "source": [
    "from imblearn.over_sampling import SMOTE\n",
    "from imblearn.combine import SMOTEENN"
   ]
  },
  {
   "cell_type": "code",
   "execution_count": 81,
   "metadata": {},
   "outputs": [],
   "source": [
    "os_us = SMOTEENN( random_state=123, n_jobs=-1)\n",
    "X_res, y_res = os_us.fit_sample(X, y)"
   ]
  },
  {
   "cell_type": "code",
   "execution_count": 82,
   "metadata": {},
   "outputs": [
    {
     "name": "stdout",
     "output_type": "stream",
     "text": [
      "Distribution of class labels before resampling: Counter({0: 139974, 1: 10026})\n",
      "Distribution of class labels after resampling: Counter({1: 139974, 0: 139974})\n"
     ]
    }
   ],
   "source": [
    "from collections import Counter\n",
    "print('Distribution of class labels before resampling: {}'.format(Counter(y)))\n",
    "print('Distribution of class labels after resampling: {}'.format(Counter(y_res)))"
   ]
  },
  {
   "cell_type": "markdown",
   "metadata": {},
   "source": [
    "## modelling after resampling"
   ]
  },
  {
   "cell_type": "code",
   "execution_count": 84,
   "metadata": {},
   "outputs": [
    {
     "data": {
      "text/plain": [
       "GradientBoostingClassifier(ccp_alpha=0.0, criterion='friedman_mse', init=None,\n",
       "                           learning_rate=0.1, loss='deviance', max_depth=3,\n",
       "                           max_features=None, max_leaf_nodes=None,\n",
       "                           min_impurity_decrease=0.0, min_impurity_split=None,\n",
       "                           min_samples_leaf=1, min_samples_split=2,\n",
       "                           min_weight_fraction_leaf=0.0, n_estimators=100,\n",
       "                           n_iter_no_change=None, presort='deprecated',\n",
       "                           random_state=123, subsample=1.0, tol=0.0001,\n",
       "                           validation_fraction=0.1, verbose=0,\n",
       "                           warm_start=False)"
      ]
     },
     "execution_count": 84,
     "metadata": {},
     "output_type": "execute_result"
    }
   ],
   "source": [
    "gbc.fit(X_res, y_res)"
   ]
  },
  {
   "cell_type": "markdown",
   "metadata": {},
   "source": [
    "## apply cross validation"
   ]
  },
  {
   "cell_type": "code",
   "execution_count": 138,
   "metadata": {},
   "outputs": [],
   "source": [
    "from sklearn.model_selection import cross_val_score\n",
    "from sklearn.model_selection import cross_validate\n",
    "# from sklearn.model_selection import cross_val_score\n",
    "from sklearn.metrics import roc_auc_score ,mean_squared_error,accuracy_score,classification_report,confusion_matrix,roc_curve\n",
    "from sklearn.metrics import confusion_matrix\n",
    "from sklearn.metrics import f1_score\n",
    "from sklearn.metrics import recall_score\n",
    "from sklearn.metrics import precision_score"
   ]
  },
  {
   "cell_type": "code",
   "execution_count": 87,
   "metadata": {},
   "outputs": [
    {
     "data": {
      "text/plain": [
       "array([0.90109627, 0.94929132, 0.94994195, 0.94941346, 0.95012047])"
      ]
     },
     "execution_count": 87,
     "metadata": {},
     "output_type": "execute_result"
    }
   ],
   "source": [
    "gbc_auc = cross_val_score(gbc, X_res, y_res, cv=5, scoring='roc_auc')\n",
    "gbc_auc"
   ]
  },
  {
   "cell_type": "code",
   "execution_count": 88,
   "metadata": {},
   "outputs": [
    {
     "data": {
      "text/plain": [
       "0.9399726932975314"
      ]
     },
     "execution_count": 88,
     "metadata": {},
     "output_type": "execute_result"
    }
   ],
   "source": [
    "gbc_auc.mean()"
   ]
  },
  {
   "cell_type": "code",
   "execution_count": 89,
   "metadata": {},
   "outputs": [
    {
     "data": {
      "text/plain": [
       "array([[0.82592506, 0.17407494],\n",
       "       [0.79328799, 0.20671201],\n",
       "       [0.5503525 , 0.4496475 ],\n",
       "       ...,\n",
       "       [0.58759708, 0.41240292],\n",
       "       [0.22166269, 0.77833731],\n",
       "       [0.93951952, 0.06048048]])"
      ]
     },
     "execution_count": 89,
     "metadata": {},
     "output_type": "execute_result"
    }
   ],
   "source": [
    "gbc_pp = gbc.predict_proba(X_test)\n",
    "gbc_pp"
   ]
  },
  {
   "cell_type": "markdown",
   "metadata": {},
   "source": [
    "## Hyperparameter tuning of Gradient Boosted Classifier"
   ]
  },
  {
   "cell_type": "code",
   "execution_count": 105,
   "metadata": {},
   "outputs": [],
   "source": [
    "from sklearn.model_selection import GridSearchCV,RandomizedSearchCV"
   ]
  },
  {
   "cell_type": "markdown",
   "metadata": {},
   "source": [
    "### parameter test 1 : 'n_estimators'"
   ]
  },
  {
   "cell_type": "code",
   "execution_count": 157,
   "metadata": {},
   "outputs": [],
   "source": [
    "# param_test1 = {'n_estimators':range(20,81,10)}\n",
    "# gsearch1 = GridSearchCV(estimator = GradientBoostingClassifier(learning_rate=0.1, min_samples_split=500,min_samples_leaf=50,max_depth=8,max_features='sqrt',subsample=0.8,random_state=10), \n",
    "# param_grid = param_test1, scoring='roc_auc',n_jobs=4,iid=False, cv=5)\n",
    "# gsearch1.fit(X_res,y_res)\n",
    "# gsearch1.best_params_, gsearch1.best_score_\n",
    "# output\n",
    "## ({'n_estimators': 80}, 0.9486611722543079)\n",
    "## takes 25 minutes to run"
   ]
  },
  {
   "cell_type": "markdown",
   "metadata": {},
   "source": [
    "### parameter test 2 : 'learning rate'"
   ]
  },
  {
   "cell_type": "code",
   "execution_count": 149,
   "metadata": {},
   "outputs": [],
   "source": [
    "# param_test2 = {'learning_rate':[0.05, 0.01, 0.005, 0.001]}\n",
    "# gsearch2 = GridSearchCV(estimator = GradientBoostingClassifier(n_estimators = 500, max_features='sqrt',random_state=10), \n",
    "# param_grid = param_test1, n_jobs=4,iid=False, cv=5)\n",
    "# gsearch2.fit(X_res,y_res)\n",
    "# gsearch2.best_params_, gsearch2.best_score_\n",
    "\n",
    "# ##  output \n",
    "# #({'learning_rate': 0.05}, 0.93936734701753921)"
   ]
  },
  {
   "cell_type": "markdown",
   "metadata": {},
   "source": [
    "## param_test 3 = 'min_samples_split'"
   ]
  },
  {
   "cell_type": "code",
   "execution_count": 150,
   "metadata": {},
   "outputs": [],
   "source": [
    "# param_test3 = {'min_samples_split':range(2,11,2)}\n",
    "# gsearch3 = GridSearchCV(estimator = GradientBoostingClassifier(n_estimators=50, learning_rate=0.05, max_depth=10, max_features='sqrt', random_state=123), \n",
    "# param_grid = param_test3,n_jobs=-1,iid=False, cv=5)\n",
    "# gsearch3.fit(X_res,y_res)\n",
    "# gsearch3.best_params_, gsearch2.best_score\n",
    "\n",
    "##output\n",
    "#({'min_samples_split': 2}, 0.9417773694251782)"
   ]
  },
  {
   "cell_type": "markdown",
   "metadata": {},
   "source": [
    "## param_test 4 = 'min_samples_leaf'"
   ]
  },
  {
   "cell_type": "code",
   "execution_count": 148,
   "metadata": {},
   "outputs": [],
   "source": [
    "# param_test3 = {'min_samples_leaf':range(2,11,2)}\n",
    "# gsearch4 = GridSearchCV(estimator = GradientBoostingClassifier(n_estimators=50, learning_rate=0.05, max_depth=10, min_samples_split=2, max_features='sqrt', random_state=123), \n",
    "# param_grid = param_test3,n_jobs=-1,iid=False, cv=5)\n",
    "# gsearch4.fit(X_res,y_res)\n",
    "# gsearch4.best_params_, gsearch4.best_score\n",
    "\n",
    "# ## output\n",
    "# #({'min_samples_leaf': 4}, 0.94133623485389517)"
   ]
  },
  {
   "cell_type": "markdown",
   "metadata": {},
   "source": [
    "## param_test 5= 'subsample'"
   ]
  },
  {
   "cell_type": "code",
   "execution_count": 152,
   "metadata": {},
   "outputs": [],
   "source": [
    "# param_test5 = {'subsample':[0.6,0.7,0.8,0.9]}\n",
    "# gsearch5 = GridSearchCV(estimator = GradientBoostingClassifier(n_estimators=50, learning_rate=0.05, max_depth=10, min_samples_split=2, min_samples_leaf=4, max_features='sqrt', random_state=123), \n",
    "# param_grid = param_test5,n_jobs=-1,iid=False, cv=5)\n",
    "# gsearch5.fit(X_res,y_res)\n",
    "# gsearch5.best_params_, gsearch4.best_score\n",
    "\n",
    "# ## output\n",
    "#({'subsample': 0.8}, 0.94104853620864404)"
   ]
  },
  {
   "cell_type": "markdown",
   "metadata": {},
   "source": [
    "## final GBC model with best parameters "
   ]
  },
  {
   "cell_type": "code",
   "execution_count": 153,
   "metadata": {},
   "outputs": [],
   "source": [
    "gbc_final= GradientBoostingClassifier(n_estimators=80, learning_rate=0.05, max_depth=10, min_samples_split=2, min_samples_leaf=4, subsample=0.8, max_features='sqrt', random_state=123)"
   ]
  },
  {
   "cell_type": "code",
   "execution_count": 158,
   "metadata": {},
   "outputs": [],
   "source": [
    "gbc_final.fit(X_res,y_res)"
   ]
  },
  {
   "cell_type": "markdown",
   "metadata": {},
   "source": [
    "## output (takes 10 minute to run)\n",
    "GradientBoostingClassifier(ccp_alpha=0.0, criterion='friedman_mse', init=None,\n",
    "                           learning_rate=0.1, loss='deviance', max_depth=3,\n",
    "                           max_features='sqrt', max_leaf_nodes=None,\n",
    "                           min_impurity_decrease=0.0, min_impurity_split=None,\n",
    "                           min_samples_leaf=1, min_samples_split=2,\n",
    "                           min_weight_fraction_leaf=0.0, n_estimators=500,\n",
    "                           n_iter_no_change=None, presort='deprecated',\n",
    "                           random_state=123, subsample=1.0, tol=0.0001,\n",
    "                           validation_fraction=0.1, verbose=0,\n",
    "                           warm_start=False)"
   ]
  },
  {
   "cell_type": "code",
   "execution_count": 159,
   "metadata": {},
   "outputs": [
    {
     "name": "stdout",
     "output_type": "stream",
     "text": [
      "[0.9026237  0.95747451 0.957181   0.95646746 0.95746407]\n"
     ]
    }
   ],
   "source": [
    "gbc_auc_final = cross_val_score(gbc_final, X_res, y_res, cv=5, scoring='roc_auc')\n",
    "print(gbc_auc_final)"
   ]
  },
  {
   "cell_type": "code",
   "execution_count": 221,
   "metadata": {},
   "outputs": [
    {
     "data": {
      "text/plain": [
       "0.9462421475100534"
      ]
     },
     "execution_count": 221,
     "metadata": {},
     "output_type": "execute_result"
    }
   ],
   "source": [
    "gbc_auc_final.mean()"
   ]
  },
  {
   "cell_type": "markdown",
   "metadata": {},
   "source": [
    "# roc-auc score improvement after hyperparameter tuning\n",
    "# 0.93997======>0.94624"
   ]
  },
  {
   "cell_type": "code",
   "execution_count": 215,
   "metadata": {},
   "outputs": [
    {
     "name": "stdout",
     "output_type": "stream",
     "text": [
      "(120000,)\n",
      "(120000,)\n"
     ]
    }
   ],
   "source": [
    "# train data prediction\n",
    "yhat_gbc_pp_test = gbc_final.predict_proba(X_train)\n",
    "yhat_gbc_pp_test\n",
    "y_pred_test = yhat_gbc_pp_test[:,1]\n",
    "print(y_pred_test.shape)\n",
    "print(y_train.shape)"
   ]
  },
  {
   "cell_type": "code",
   "execution_count": 209,
   "metadata": {},
   "outputs": [
    {
     "data": {
      "text/plain": [
       "array([[0.50930737, 0.49069263],\n",
       "       [0.85464397, 0.14535603],\n",
       "       [0.95210739, 0.04789261],\n",
       "       ...,\n",
       "       [0.9257216 , 0.0742784 ],\n",
       "       [0.92505663, 0.07494337],\n",
       "       [0.65091437, 0.34908563]])"
      ]
     },
     "execution_count": 209,
     "metadata": {},
     "output_type": "execute_result"
    }
   ],
   "source": [
    "## test data prediction\n",
    "yhat_gbc_pp_final = gbc_final.predict_proba(test_data)\n",
    "yhat_gbc_pp_final\n"
   ]
  },
  {
   "cell_type": "code",
   "execution_count": 220,
   "metadata": {},
   "outputs": [
    {
     "data": {
      "text/plain": [
       "(101503,)"
      ]
     },
     "execution_count": 220,
     "metadata": {},
     "output_type": "execute_result"
    }
   ],
   "source": [
    "y_pred = yhat_gbc_pp_final[:,1]\n",
    "y_pred.shape\n"
   ]
  },
  {
   "cell_type": "code",
   "execution_count": 226,
   "metadata": {},
   "outputs": [
    {
     "data": {
      "image/png": "[encoded data removed]",
      "text/plain": [
       "<Figure size 720x576 with 1 Axes>"
      ]
     },
     "metadata": {},
     "output_type": "display_data"
    },
    {
     "data": {
      "text/plain": [
       "0.8371869505757437"
      ]
     },
     "execution_count": 226,
     "metadata": {},
     "output_type": "execute_result"
    }
   ],
   "source": [
    "from sklearn.metrics import auc,roc_curve\n",
    "fpr,tpr,_ = roc_curve(y_train, y_pred_test)\n",
    "roc_auc = auc(fpr, tpr)\n",
    "plt.figure(figsize=(10,8))\n",
    "plt.title('Receiver Operating Characteristic')\n",
    "sns.lineplot(fpr, tpr, label = 'AUC = %0.2f' % roc_auc)\n",
    "plt.legend(loc = 'lower right')\n",
    "plt.plot([0, 1], [0, 1],'r--')\n",
    "plt.ylabel('True Positive Rate')\n",
    "plt.xlabel('False Positive Rate')\n",
    "plt.show()\n",
    "roc_auc"
   ]
  },
  {
   "cell_type": "markdown",
   "metadata": {},
   "source": [
    "## test data\n",
    "We preprocess the test set in the same way we did for the training set."
   ]
  },
  {
   "cell_type": "code",
   "execution_count": 188,
   "metadata": {},
   "outputs": [],
   "source": [
    "test = pd.read_csv('C:/Users/RUPA/Downloads/fin_test.csv')"
   ]
  },
  {
   "cell_type": "code",
   "execution_count": 189,
   "metadata": {},
   "outputs": [],
   "source": [
    "test.rename(columns = {'SeriousDlqin2yrs': 'delinquency', 'RevolvingUtilizationOfUnsecuredLines':'revolvingcreditrate',\n",
    "                    'NumberOfTime30-59DaysPastDueNotWorse': '30-59days', \n",
    "                     'NumberOfOpenCreditLinesAndLoans':'opencredit', 'NumberOfTimes90DaysLate':'>=90days',\n",
    "                    'NumberRealEstateLoansOrLines':'mortgage', 'NumberOfTime60-89DaysPastDueNotWorse':'60-89days',\n",
    "                    'NumberOfDependents':'dependents','MonthlyIncome':'monthlyincome'}, inplace=True)"
   ]
  },
  {
   "cell_type": "code",
   "execution_count": 192,
   "metadata": {},
   "outputs": [],
   "source": [
    "test=test.drop('Unnamed: 0',1)"
   ]
  },
  {
   "cell_type": "code",
   "execution_count": 193,
   "metadata": {},
   "outputs": [
    {
     "name": "stdout",
     "output_type": "stream",
     "text": [
      "<class 'pandas.core.frame.DataFrame'>\n",
      "RangeIndex: 150000 entries, 0 to 149999\n",
      "Data columns (total 11 columns):\n",
      "delinquency            150000 non-null int64\n",
      "revolvingcreditrate    150000 non-null float64\n",
      "age                    150000 non-null int64\n",
      "30-59days              150000 non-null int64\n",
      "debtratio              150000 non-null float64\n",
      "monthlyincome          150000 non-null float64\n",
      "opencredit             150000 non-null int64\n",
      ">=90days               150000 non-null int64\n",
      "mortgage               150000 non-null int64\n",
      "60-89days              150000 non-null int64\n",
      "dependents             150000 non-null float64\n",
      "dtypes: float64(4), int64(7)\n",
      "memory usage: 12.6 MB\n"
     ]
    }
   ],
   "source": [
    "train.info()"
   ]
  },
  {
   "cell_type": "code",
   "execution_count": 194,
   "metadata": {},
   "outputs": [
    {
     "name": "stdout",
     "output_type": "stream",
     "text": [
      " preprocessing Done...\n",
      "\n"
     ]
    }
   ],
   "source": [
    "dependents_mode = test[\"dependents\"].mode()[0] # impute with mode for no. of dependents\n",
    "test[\"dependents\"] = test[\"dependents\"].fillna(dependents_mode)\n",
    "\n",
    "    \n",
    "income_median = test[\"monthlyincome\"].median()# impute with median for monthly income\n",
    "test[\"monthlyincome\"] = test[\"monthlyincome\"].fillna(income_median)\n",
    "\n",
    "# train['NumberOfTimes90DaysLate']=train[train['NumberOfTimes90DaysLate']>18]['NumberOfTimes90DaysLate']\n",
    "    \n",
    "print(\" preprocessing Done...\\n\")\n",
    "# train.isnull().sum()\n"
   ]
  },
  {
   "cell_type": "code",
   "execution_count": 196,
   "metadata": {},
   "outputs": [
    {
     "name": "stdout",
     "output_type": "stream",
     "text": [
      "<class 'pandas.core.frame.DataFrame'>\n",
      "RangeIndex: 101503 entries, 0 to 101502\n",
      "Data columns (total 11 columns):\n",
      "delinquency            0 non-null float64\n",
      "revolvingcreditrate    101503 non-null float64\n",
      "age                    101503 non-null int64\n",
      "30-59days              101503 non-null int64\n",
      "DebtRatio              101503 non-null float64\n",
      "monthlyincome          101503 non-null float64\n",
      "opencredit             101503 non-null int64\n",
      ">=90days               101503 non-null int64\n",
      "mortgage               101503 non-null int64\n",
      "60-89days              101503 non-null int64\n",
      "dependents             101503 non-null float64\n",
      "dtypes: float64(5), int64(6)\n",
      "memory usage: 8.5 MB\n"
     ]
    }
   ],
   "source": [
    "test.info()"
   ]
  },
  {
   "cell_type": "code",
   "execution_count": 197,
   "metadata": {},
   "outputs": [],
   "source": [
    "test_data=test.drop(['delinquency'], axis=1)"
   ]
  },
  {
   "cell_type": "code",
   "execution_count": 187,
   "metadata": {},
   "outputs": [],
   "source": []
  },
  {
   "cell_type": "markdown",
   "metadata": {},
   "source": [
    " ## Submission"
   ]
  },
  {
   "cell_type": "code",
   "execution_count": 199,
   "metadata": {},
   "outputs": [],
   "source": [
    "#Get 2nd column of predicted probabilities for probability of delinquency happening for each observation\n",
    "sub = yhat_gbc_pp_final[:,1]"
   ]
  },
  {
   "cell_type": "code",
   "execution_count": 200,
   "metadata": {},
   "outputs": [],
   "source": [
    "#Convert into dataframe and name column as probability following submission example\n",
    "subdf = pd.DataFrame(sub, columns=['probability'])"
   ]
  },
  {
   "cell_type": "code",
   "execution_count": 201,
   "metadata": {},
   "outputs": [],
   "source": [
    "#Increase index of all Ids by 1 to start from 1 and not 0\n",
    "subdf.index += 1"
   ]
  },
  {
   "cell_type": "code",
   "execution_count": 202,
   "metadata": {},
   "outputs": [
    {
     "data": {
      "text/html": [
       "<div>\n",
       "<style scoped>\n",
       "    .dataframe tbody tr th:only-of-type {\n",
       "        vertical-align: middle;\n",
       "    }\n",
       "\n",
       "    .dataframe tbody tr th {\n",
       "        vertical-align: top;\n",
       "    }\n",
       "\n",
       "    .dataframe thead th {\n",
       "        text-align: right;\n",
       "    }\n",
       "</style>\n",
       "<table border=\"1\" class=\"dataframe\">\n",
       "  <thead>\n",
       "    <tr style=\"text-align: right;\">\n",
       "      <th></th>\n",
       "      <th>probability</th>\n",
       "    </tr>\n",
       "    <tr>\n",
       "      <th>Id</th>\n",
       "      <th></th>\n",
       "    </tr>\n",
       "  </thead>\n",
       "  <tbody>\n",
       "    <tr>\n",
       "      <th>1</th>\n",
       "      <td>0.490693</td>\n",
       "    </tr>\n",
       "    <tr>\n",
       "      <th>2</th>\n",
       "      <td>0.145356</td>\n",
       "    </tr>\n",
       "    <tr>\n",
       "      <th>3</th>\n",
       "      <td>0.047893</td>\n",
       "    </tr>\n",
       "    <tr>\n",
       "      <th>4</th>\n",
       "      <td>0.332553</td>\n",
       "    </tr>\n",
       "    <tr>\n",
       "      <th>5</th>\n",
       "      <td>0.096034</td>\n",
       "    </tr>\n",
       "  </tbody>\n",
       "</table>\n",
       "</div>"
      ],
      "text/plain": [
       "    probability\n",
       "Id             \n",
       "1      0.490693\n",
       "2      0.145356\n",
       "3      0.047893\n",
       "4      0.332553\n",
       "5      0.096034"
      ]
     },
     "execution_count": 202,
     "metadata": {},
     "output_type": "execute_result"
    }
   ],
   "source": [
    "#Rename index column as 'Id' following submission guidelines\n",
    "subdf.index.name = 'Id'\n",
    "subdf.head()"
   ]
  },
  {
   "cell_type": "code",
   "execution_count": 239,
   "metadata": {},
   "outputs": [],
   "source": [
    "#Save as csv file for submission\n",
    "subdf.to_csv('sub.csv')"
   ]
  },
  {
   "cell_type": "code",
   "execution_count": null,
   "metadata": {},
   "outputs": [],
   "source": []
  }
 ],
 "metadata": {
  "kernelspec": {
   "display_name": "Python 3",
   "language": "python",
   "name": "python3"
  },
  "language_info": {
   "codemirror_mode": {
    "name": "ipython",
    "version": 3
   },
   "file_extension": ".py",
   "mimetype": "text/x-python",
   "name": "python",
   "nbconvert_exporter": "python",
   "pygments_lexer": "ipython3",
   "version": "3.7.3"
  }
 },
 "nbformat": 4,
 "nbformat_minor": 2
}
